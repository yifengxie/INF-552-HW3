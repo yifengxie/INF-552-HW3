{
 "cells": [
  {
   "cell_type": "code",
   "execution_count": 21,
   "metadata": {},
   "outputs": [],
   "source": [
    "import os\n",
    "import pydotplus \n",
    "import numpy as np\n",
    "import pandas as pd\n",
    "import matplotlib.pyplot as plt\n",
    "import seaborn as sns\n",
    "import sklearn\n",
    "import statsmodels.api as sm\n",
    "from scipy import interp\n",
    "from itertools import cycle\n",
    "from sklearn.model_selection import train_test_split, cross_val_score\n",
    "from sklearn import preprocessing,tree,svm,datasets,metrics\n",
    "from sklearn.cross_validation import train_test_split\n",
    "from sklearn.preprocessing import StandardScaler\n",
    "from sklearn.metrics import roc_curve, auc\n",
    "from sklearn.model_selection import train_test_split\n",
    "from sklearn.preprocessing import label_binarize\n",
    "from sklearn.multiclass import OneVsRestClassifier\n",
    "from sklearn.ensemble import RandomForestRegressor\n",
    "from sklearn.ensemble import RandomForestClassifier"
   ]
  },
  {
   "cell_type": "markdown",
   "metadata": {},
   "source": [
    "# 1. Non aggregated data"
   ]
  },
  {
   "cell_type": "markdown",
   "metadata": {},
   "source": [
    "## 1.1 Import data"
   ]
  },
  {
   "cell_type": "code",
   "execution_count": 22,
   "metadata": {},
   "outputs": [
    {
     "name": "stdout",
     "output_type": "stream",
     "text": [
      "       bulkyItems  electronicWaste  illegalDumpingPickup  \\\n",
      "0               1                0                     0   \n",
      "1               1                0                     0   \n",
      "2               0                0                     1   \n",
      "3               1                0                     0   \n",
      "4               0                0                     1   \n",
      "5               1                0                     0   \n",
      "6               1                0                     0   \n",
      "7               1                0                     0   \n",
      "8               1                0                     0   \n",
      "9               1                0                     0   \n",
      "10              1                0                     0   \n",
      "11              1                0                     0   \n",
      "12              1                0                     0   \n",
      "13              1                0                     0   \n",
      "14              1                0                     0   \n",
      "15              1                0                     0   \n",
      "16              0                0                     1   \n",
      "17              1                0                     0   \n",
      "18              1                0                     0   \n",
      "19              1                0                     0   \n",
      "20              0                1                     0   \n",
      "21              1                0                     0   \n",
      "22              1                0                     0   \n",
      "23              0                0                     1   \n",
      "24              1                0                     0   \n",
      "25              0                0                     1   \n",
      "26              1                0                     0   \n",
      "27              1                0                     0   \n",
      "28              1                0                     0   \n",
      "29              1                0                     0   \n",
      "...           ...              ...                   ...   \n",
      "16584           0                0                     0   \n",
      "16585           1                0                     0   \n",
      "16586           1                0                     0   \n",
      "16587           0                0                     0   \n",
      "16588           1                0                     0   \n",
      "16589           0                0                     1   \n",
      "16590           1                0                     0   \n",
      "16591           1                0                     0   \n",
      "16592           0                1                     0   \n",
      "16593           1                0                     0   \n",
      "16594           1                0                     0   \n",
      "16595           0                0                     0   \n",
      "16596           1                0                     0   \n",
      "16597           1                0                     0   \n",
      "16598           1                0                     0   \n",
      "16599           0                0                     1   \n",
      "16600           1                0                     0   \n",
      "16601           1                0                     0   \n",
      "16602           0                0                     1   \n",
      "16603           0                0                     1   \n",
      "16604           1                0                     0   \n",
      "16605           1                0                     0   \n",
      "16606           1                0                     0   \n",
      "16607           0                1                     0   \n",
      "16608           1                0                     0   \n",
      "16609           1                0                     0   \n",
      "16610           0                0                     1   \n",
      "16611           0                0                     1   \n",
      "16612           0                0                     1   \n",
      "16613           1                0                     0   \n",
      "\n",
      "       metalHouseholdAppliances  duration  healthStatus  \n",
      "0                             0         5             1  \n",
      "1                             0         8             3  \n",
      "2                             0        24             3  \n",
      "3                             0         4             2  \n",
      "4                             0         2             2  \n",
      "5                             0         2             3  \n",
      "6                             0         4             1  \n",
      "7                             0         1             1  \n",
      "8                             0         1             1  \n",
      "9                             0         3             1  \n",
      "10                            0         2             2  \n",
      "11                            0         1             3  \n",
      "12                            0         4             3  \n",
      "13                            0         4             3  \n",
      "14                            0         4             3  \n",
      "15                            0         2             3  \n",
      "16                            0         2             3  \n",
      "17                            0         2             2  \n",
      "18                            0         4             1  \n",
      "19                            0         1             1  \n",
      "20                            0         2             3  \n",
      "21                            0         2             3  \n",
      "22                            0         4             1  \n",
      "23                            0         4             1  \n",
      "24                            0         3             3  \n",
      "25                            0         3             3  \n",
      "26                            0         4             3  \n",
      "27                            0         2             2  \n",
      "28                            0        24             3  \n",
      "29                            0         3             1  \n",
      "...                         ...       ...           ...  \n",
      "16584                         1         1             2  \n",
      "16585                         0         5             1  \n",
      "16586                         0         5             3  \n",
      "16587                         1         1             2  \n",
      "16588                         0         1             2  \n",
      "16589                         0         5             2  \n",
      "16590                         0         5             3  \n",
      "16591                         0         5             3  \n",
      "16592                         0         1             2  \n",
      "16593                         0         1             2  \n",
      "16594                         0         5             2  \n",
      "16595                         1         5             3  \n",
      "16596                         0         5             3  \n",
      "16597                         0         5             3  \n",
      "16598                         0         1             3  \n",
      "16599                         0         5             1  \n",
      "16600                         0         5             3  \n",
      "16601                         0         5             2  \n",
      "16602                         0         1             2  \n",
      "16603                         0         5             3  \n",
      "16604                         0         5             2  \n",
      "16605                         0         5             1  \n",
      "16606                         0         5             2  \n",
      "16607                         0         5             2  \n",
      "16608                         0         5             2  \n",
      "16609                         0         5             3  \n",
      "16610                         0         5             3  \n",
      "16611                         0         5             3  \n",
      "16612                         0         5             3  \n",
      "16613                         0         4             2  \n",
      "\n",
      "[16614 rows x 6 columns]\n"
     ]
    }
   ],
   "source": [
    "dtype={\n",
    "        'bulkyItems' : np.int64,\n",
    "        'electronicWaste' : np.int64,\n",
    "        'illegalDumpingPickup' : np.int64,\n",
    "        'metalHouseholdAppliances' : np.int64,\n",
    "        'duration': np.int64,\n",
    "        'healthStatus': np.int64\n",
    "      }\n",
    "data = pd.read_csv(\"smalldata.csv\",dtype=dtype, usecols=dtype)\n",
    "print data"
   ]
  },
  {
   "cell_type": "markdown",
   "metadata": {},
   "source": [
    "## 1.2 Split data into input set and ouput set"
   ]
  },
  {
   "cell_type": "code",
   "execution_count": 23,
   "metadata": {
    "collapsed": true
   },
   "outputs": [],
   "source": [
    "X = data.drop('healthStatus',axis = 1)\n",
    "Y = data['healthStatus']"
   ]
  },
  {
   "cell_type": "markdown",
   "metadata": {},
   "source": [
    "## 1.3 Use Decision Tree wtih 10-fold cross validation "
   ]
  },
  {
   "cell_type": "code",
   "execution_count": null,
   "metadata": {},
   "outputs": [
    {
     "name": "stdout",
     "output_type": "stream",
     "text": [
      "The accuracy rate using Decision Tree is 0.523295462556\n"
     ]
    }
   ],
   "source": [
    "dt = tree.DecisionTreeClassifier()\n",
    "dt = dt.fit(X, Y)\n",
    "scores = cross_val_score(dt, X, Y, cv=10)\n",
    "print 'The accuracy rate using Decision Tree is', scores.mean()\n",
    "rf = RandomForestClassifier(n_jobs=2)\n",
    "scores = cross_val_score(rf, X, Y, cv=10)\n",
    "print 'The accuracy rate using Random Forest is', scores.mean()"
   ]
  },
  {
   "cell_type": "markdown",
   "metadata": {},
   "source": [
    "## 1.4 Statistic Analysis"
   ]
  },
  {
   "cell_type": "code",
   "execution_count": 16,
   "metadata": {
    "scrolled": true
   },
   "outputs": [
    {
     "name": "stdout",
     "output_type": "stream",
     "text": [
      "For Health Area 1 vs Health Area 2, the duration P-value is 0.00237809514502\n",
      "For Health Area 2 vs Health Area 3, the duration P-value is 8.37408705422e-22\n",
      "For Health Area 1 vs Health Area 3, the duration P-value is 3.46726221347e-08\n",
      "\n",
      "\n",
      "For Health Area 1 vs Health Area 2, the bulkyItems P-value is 0.863897138968\n",
      "For Health Area 2 vs Health Area 3, the bulkyItems P-value is 0.172292711593\n",
      "For Health Area 1 vs Health Area 3, the bulkyItems P-value is 0.273174323011\n",
      "\n",
      "\n",
      "For Health Area 1 vs Health Area 2, the electronicWaste P-value is 2.05304049661e-06\n",
      "For Health Area 2 vs Health Area 3, the electronicWaste P-value is 0.000268403731347\n",
      "For Health Area 1 vs Health Area 3, the electronicWaste P-value is 0.0553486475329\n",
      "\n",
      "\n",
      "For Health Area 1 vs Health Area 2, the illegalDumpingPickup P-value is 0.777530700878\n",
      "For Health Area 2 vs Health Area 3, the illegalDumpingPickup P-value is 0.57175911316\n",
      "For Health Area 1 vs Health Area 3, the illegalDumpingPickup P-value is 0.832505131642\n",
      "\n",
      "\n",
      "For Health Area 1 vs Health Area 2, the metalHouseholdAppliances P-value is 3.27529440007e-06\n",
      "For Health Area 2 vs Health Area 3, the metalHouseholdAppliances P-value is 0.642751575772\n",
      "For Health Area 1 vs Health Area 3, the metalHouseholdAppliances P-value is 2.13762959893e-06\n"
     ]
    }
   ],
   "source": [
    "X1 = data[data.healthStatus == 1]\n",
    "X2 = data[data.healthStatus == 2]\n",
    "X3 = data[data.healthStatus == 3]\n",
    "Y1 = X1['duration']\n",
    "Y2 = X2['duration']\n",
    "Y3 = X3['duration']\n",
    "from scipy import stats\n",
    "print 'For Health Area 1 vs Health Area 2, the duration P-value is',stats.ttest_ind(Y1,Y2,equal_var=False).pvalue\n",
    "print 'For Health Area 2 vs Health Area 3, the duration P-value is',stats.ttest_ind(Y2,Y3,equal_var=False).pvalue\n",
    "print 'For Health Area 1 vs Health Area 3, the duration P-value is',stats.ttest_ind(Y1,Y3,equal_var=False).pvalue\n",
    "print '\\n'\n",
    "A1 = X1['bulkyItems']\n",
    "A2 = X2['bulkyItems']\n",
    "A3 = X3['bulkyItems']\n",
    "print 'For Health Area 1 vs Health Area 2, the bulkyItems P-value is',stats.ttest_ind(A1,A2,equal_var=False).pvalue\n",
    "print 'For Health Area 2 vs Health Area 3, the bulkyItems P-value is',stats.ttest_ind(A2,A3,equal_var=False).pvalue\n",
    "print 'For Health Area 1 vs Health Area 3, the bulkyItems P-value is',stats.ttest_ind(A1,A3,equal_var=False).pvalue\n",
    "print '\\n'\n",
    "B1 = X1['electronicWaste']\n",
    "B2 = X2['electronicWaste']\n",
    "B3 = X3['electronicWaste']\n",
    "print 'For Health Area 1 vs Health Area 2, the electronicWaste P-value is',stats.ttest_ind(B1,B2,equal_var=False).pvalue\n",
    "print 'For Health Area 2 vs Health Area 3, the electronicWaste P-value is',stats.ttest_ind(B2,B3,equal_var=False).pvalue\n",
    "print 'For Health Area 1 vs Health Area 3, the electronicWaste P-value is',stats.ttest_ind(B1,B3,equal_var=False).pvalue\n",
    "print '\\n'\n",
    "C1 = X1['illegalDumpingPickup']\n",
    "C2 = X2['illegalDumpingPickup']\n",
    "C3 = X3['illegalDumpingPickup']\n",
    "print 'For Health Area 1 vs Health Area 2, the illegalDumpingPickup P-value is',stats.ttest_ind(C1,C2,equal_var=False).pvalue\n",
    "print 'For Health Area 2 vs Health Area 3, the illegalDumpingPickup P-value is',stats.ttest_ind(C2,C3,equal_var=False).pvalue\n",
    "print 'For Health Area 1 vs Health Area 3, the illegalDumpingPickup P-value is',stats.ttest_ind(C1,C3,equal_var=False).pvalue\n",
    "print '\\n'\n",
    "D1 = X1['metalHouseholdAppliances']\n",
    "D2 = X2['metalHouseholdAppliances']\n",
    "D3 = X3['metalHouseholdAppliances']\n",
    "print 'For Health Area 1 vs Health Area 2, the metalHouseholdAppliances P-value is',stats.ttest_ind(D1,D2,equal_var=False).pvalue\n",
    "print 'For Health Area 2 vs Health Area 3, the metalHouseholdAppliances P-value is',stats.ttest_ind(D2,D3,equal_var=False).pvalue\n",
    "print 'For Health Area 1 vs Health Area 3, the metalHouseholdAppliances P-value is',stats.ttest_ind(D1,D3,equal_var=False).pvalue"
   ]
  },
  {
   "cell_type": "markdown",
   "metadata": {},
   "source": [
    "## 1.5 Draw Decision Tree"
   ]
  },
  {
   "cell_type": "code",
   "execution_count": 17,
   "metadata": {
    "scrolled": true
   },
   "outputs": [
    {
     "data": {
      "text/plain": [
       "True"
      ]
     },
     "execution_count": 17,
     "metadata": {},
     "output_type": "execute_result"
    }
   ],
   "source": [
    "with open(\"collection.dot\", 'w') as f:\n",
    "    f = tree.export_graphviz(dt, out_file=f)\n",
    "os.unlink('collection.dot')\n",
    "dot_data = tree.export_graphviz(dt, out_file=None) \n",
    "graph = pydotplus.graph_from_dot_data(dot_data) \n",
    "graph.write_pdf(\"tree1.pdf\")"
   ]
  },
  {
   "cell_type": "markdown",
   "metadata": {},
   "source": [
    "# 2. Aggregated data"
   ]
  },
  {
   "cell_type": "markdown",
   "metadata": {},
   "source": [
    "## 2.1 Import data"
   ]
  },
  {
   "cell_type": "code",
   "execution_count": 18,
   "metadata": {},
   "outputs": [
    {
     "name": "stdout",
     "output_type": "stream",
     "text": [
      "    bulkyItems  electronicWaste  illegalDumpingPickup  \\\n",
      "0          729              104                   217   \n",
      "1          960              108                   278   \n",
      "2          487               39                   178   \n",
      "3          625               58                   168   \n",
      "4          481               32                   175   \n",
      "5          753              106                   256   \n",
      "6          482               82                   185   \n",
      "7         1161               79                   486   \n",
      "8          790               70                   361   \n",
      "9         1063               89                   315   \n",
      "10         491               27                   191   \n",
      "11         293               48                   123   \n",
      "12        1373              132                   365   \n",
      "13         677               93                   277   \n",
      "14         587               59                   251   \n",
      "\n",
      "    metalHouseholdAppliances  allCollections  allDuration  averageDuration  \\\n",
      "0                         52            1102         4819             4.37   \n",
      "1                         51            1397         5204             3.73   \n",
      "2                         31             735         2723             3.70   \n",
      "3                         50             901         3567             3.96   \n",
      "4                         54             742         2922             3.94   \n",
      "5                         36            1151         4198             3.65   \n",
      "6                         27             776         3531             4.55   \n",
      "7                         57            1783         7800             4.37   \n",
      "8                         26            1247         5420             4.35   \n",
      "9                         63            1530         6839             4.47   \n",
      "10                        41             750         3398             4.53   \n",
      "11                        38             502         2303             4.59   \n",
      "12                       106            1976         8777             4.44   \n",
      "13                        27            1074         5690             5.30   \n",
      "14                        41             938         3553             3.79   \n",
      "\n",
      "    health  \n",
      "0        3  \n",
      "1        2  \n",
      "2        1  \n",
      "3        1  \n",
      "4        1  \n",
      "5        2  \n",
      "6        2  \n",
      "7        3  \n",
      "8        3  \n",
      "9        3  \n",
      "10       1  \n",
      "11       1  \n",
      "12       3  \n",
      "13       3  \n",
      "14       2  \n"
     ]
    }
   ],
   "source": [
    "dtype={\n",
    "        'bulkyItems' : np.int64,\n",
    "        'electronicWaste' : np.int64,\n",
    "        'illegalDumpingPickup' : np.int64,\n",
    "        'metalHouseholdAppliances' : np.int64,\n",
    "        'allCollections': np.int64,\n",
    "        'allDuration': np.int64,\n",
    "        'averageDuration' : np.float64,\n",
    "        'health': np.int64\n",
    "      }\n",
    "data = pd.read_csv(\"data.csv\",dtype=dtype, usecols=dtype)\n",
    "print data"
   ]
  },
  {
   "cell_type": "markdown",
   "metadata": {},
   "source": [
    "## 2.2 Split data into input set and ouput set"
   ]
  },
  {
   "cell_type": "code",
   "execution_count": 19,
   "metadata": {
    "collapsed": true
   },
   "outputs": [],
   "source": [
    "X = data.drop('health', axis = 1)\n",
    "Y = data['health']"
   ]
  },
  {
   "cell_type": "markdown",
   "metadata": {},
   "source": [
    "## 2.3 Use Decision Tree wtih 5-fold cross validation "
   ]
  },
  {
   "cell_type": "code",
   "execution_count": 20,
   "metadata": {},
   "outputs": [
    {
     "name": "stdout",
     "output_type": "stream",
     "text": [
      "0.533333333333\n"
     ]
    },
    {
     "name": "stderr",
     "output_type": "stream",
     "text": [
      "/usr/local/lib/python2.7/site-packages/sklearn/model_selection/_split.py:581: Warning: The least populated class in y has only 4 members, which is too few. The minimum number of groups for any class cannot be less than n_splits=5.\n",
      "  % (min_groups, self.n_splits)), Warning)\n"
     ]
    }
   ],
   "source": [
    "dt = tree.DecisionTreeClassifier()\n",
    "dt = dt.fit(X, Y)\n",
    "scores = cross_val_score(dt, X, Y, cv=5)\n",
    "print scores.mean()"
   ]
  },
  {
   "cell_type": "markdown",
   "metadata": {},
   "source": [
    "## 2.4 Draw Decision Tree"
   ]
  },
  {
   "cell_type": "code",
   "execution_count": 75,
   "metadata": {},
   "outputs": [
    {
     "data": {
      "text/plain": [
       "True"
      ]
     },
     "execution_count": 75,
     "metadata": {},
     "output_type": "execute_result"
    }
   ],
   "source": [
    "with open(\"collection.dot\", 'w') as f:\n",
    "    f = tree.export_graphviz(dt, out_file=f)\n",
    "os.unlink('collection.dot')\n",
    "dot_data = tree.export_graphviz(dt, out_file=None) \n",
    "graph = pydotplus.graph_from_dot_data(dot_data) \n",
    "graph.write_pdf(\"tree2.pdf\")"
   ]
  },
  {
   "cell_type": "code",
   "execution_count": null,
   "metadata": {
    "collapsed": true
   },
   "outputs": [],
   "source": []
  }
 ],
 "metadata": {
  "kernelspec": {
   "display_name": "Python 2",
   "language": "python",
   "name": "python2"
  },
  "language_info": {
   "codemirror_mode": {
    "name": "ipython",
    "version": 2
   },
   "file_extension": ".py",
   "mimetype": "text/x-python",
   "name": "python",
   "nbconvert_exporter": "python",
   "pygments_lexer": "ipython2",
   "version": "2.7.13"
  }
 },
 "nbformat": 4,
 "nbformat_minor": 2
}
